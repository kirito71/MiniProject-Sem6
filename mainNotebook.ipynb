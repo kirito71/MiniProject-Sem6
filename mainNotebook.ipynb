{
 "cells": [
  {
   "cell_type": "code",
   "execution_count": 20,
   "metadata": {
    "collapsed": true
   },
   "outputs": [
    {
     "name": "stdout",
     "output_type": "stream",
     "text": [
      "Initial Data:  21025\n",
      "Reduction Done\n"
     ]
    }
   ],
   "source": [
    "import numpy as np\n",
    "import pandas as pd\n",
    "from sklearn.preprocessing import MinMaxScaler\n",
    "import time\n",
    "from utils import somCluster\n",
    "from sklearn.cluster import KMeans\n",
    "from sklearn.svm import SVC\n",
    "from sklearn.metrics import accuracy_score\n",
    "from sklearn.decomposition import KernelPCA\n",
    "\n",
    "startTime = time.time()\n",
    "\n",
    "# Loading Dataset and preprocessing\n",
    "\n",
    "x = pd.read_csv('DataSet/indianPines_X.csv')\n",
    "y = pd.read_csv('DataSet/indianPines_Y.csv')\n",
    "print('Initial Data: ', x.shape[0])\n",
    "sc = MinMaxScaler(feature_range=(0, 1))\n",
    "x = sc.fit_transform(x)\n",
    "nClasses = len(y.value_counts())\n",
    "\n",
    "# Dimensionality Reduction\n",
    "x = KernelPCA(n_components=15, eigen_solver='arpack', n_jobs=-1).fit_transform(x)\n",
    "print('Reduction Done')\n",
    "nFeatures = x.shape[1]\n",
    "columns = [i for i in range(nFeatures)]"
   ]
  },
  {
   "cell_type": "code",
   "execution_count": 21,
   "outputs": [],
   "source": [
    "# Splitting the data set and SOM\n",
    "\n",
    "df = []\n",
    "for i in range(nClasses):\n",
    "    df.append(x[y['class'] == i])\n",
    "\n",
    "X = []\n",
    "Y = []\n",
    "for i in range(nClasses):\n",
    "    if i == 0:\n",
    "        X = somCluster(df[i], nFeatures)\n",
    "        Y = [i] * len(X)\n",
    "    else:\n",
    "        tp = somCluster(df[i], nFeatures)\n",
    "        X = np.concatenate((X, tp), axis=0)\n",
    "        Y = np.concatenate((Y, [i] * len(tp)), axis=0)"
   ],
   "metadata": {
    "collapsed": false,
    "pycharm": {
     "name": "#%%\n"
    }
   }
  },
  {
   "cell_type": "code",
   "execution_count": 27,
   "outputs": [
    {
     "name": "stdout",
     "output_type": "stream",
     "text": [
      "After Outlier Reduction:  19553\n",
      "Final Training Dataset length:  49\n"
     ]
    }
   ],
   "source": [
    "\n",
    "# Dataset without Outliers\n",
    "X1 = pd.DataFrame(X, columns=columns)\n",
    "Y1 = pd.DataFrame(Y, columns=['class'])\n",
    "# Shape after Removing Outliers\n",
    "print('After Outlier Reduction: ', X.shape[0])\n",
    "\n",
    "# K-MEANS HOMOGENEOUS ##########################################################\n",
    "df = pd.concat([X1, Y1], axis=1, join='inner')\n",
    "df = df.sample(frac=1).reset_index(drop=True)\n",
    "queue = [df]\n",
    "final = []\n",
    "# p = list(df['class'].value_counts().keys())\n",
    "# print(p)\n",
    "while len(queue) > 0:\n",
    "    cluster = queue.pop(0)\n",
    "    if len(cluster['class'].value_counts()) == 1:  # If homogeneous\n",
    "        final.append(list(cluster.mean()))\n",
    "    else:\n",
    "        classCentroid = []\n",
    "        classes = list(cluster['class'].value_counts().keys())\n",
    "        for i in classes:\n",
    "            centroid = list(cluster[cluster['class'] == i].mean())\n",
    "            classCentroid.append(centroid)\n",
    "        kMeans = KMeans(n_clusters=len(classes), init=np.array(classCentroid), n_init=1, max_iter=500)\n",
    "        label = kMeans.fit_predict(cluster)\n",
    "        for i in range(len(classes)):\n",
    "            queue.append(cluster[label == i])\n",
    "\n",
    "# Final Reduced Dataset\n",
    "print('Final Training Dataset length: ', len(final))\n",
    "final = np.array(final)\n",
    "# print(final)"
   ],
   "metadata": {
    "collapsed": false,
    "pycharm": {
     "name": "#%%\n"
    }
   }
  },
  {
   "cell_type": "code",
   "execution_count": 33,
   "outputs": [
    {
     "name": "stdout",
     "output_type": "stream",
     "text": [
      "SVM Accuracy 41.835909631391196\n",
      "Runtime: 471.10844922065735\n"
     ]
    }
   ],
   "source": [
    "from sklearn.neighbors import KNeighborsClassifier\n",
    "\n",
    "# Training SVM\n",
    "x_train = final[:, :-1]\n",
    "y_train = final[:, -1]\n",
    "# x_train = x\n",
    "# y_train = np.ravel(y)\n",
    "# SVM = SVC(kernel='rbf', gamma='scale',  cache_size=2000, decision_function_shape='ovo')\n",
    "SVM = KNeighborsClassifier(n_neighbors=6)\n",
    "SVM.fit(x_train, y_train)\n",
    "yPredict = SVM.predict(x)\n",
    "ac_svm = accuracy_score(y, yPredict) * 100\n",
    "print('SVM Accuracy', ac_svm)\n",
    "print('Runtime:', time.time() - startTime)"
   ],
   "metadata": {
    "collapsed": false,
    "pycharm": {
     "name": "#%%\n"
    }
   }
  }
 ],
 "metadata": {
  "kernelspec": {
   "display_name": "Python 3",
   "language": "python",
   "name": "python3"
  },
  "language_info": {
   "codemirror_mode": {
    "name": "ipython",
    "version": 2
   },
   "file_extension": ".py",
   "mimetype": "text/x-python",
   "name": "python",
   "nbconvert_exporter": "python",
   "pygments_lexer": "ipython2",
   "version": "2.7.6"
  }
 },
 "nbformat": 4,
 "nbformat_minor": 0
}